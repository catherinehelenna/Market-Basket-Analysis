{
 "cells": [
  {
   "cell_type": "markdown",
   "metadata": {},
   "source": [
    "## Mall Customer Segmentation\n",
    "\n",
    "Use the given customer credentials to determine which customers are suitable becoming your target customer.\n",
    "\n",
    "The data is from membership cards which provide Customer ID, age, gender, annual income, and spending score.\n",
    "\n",
    "Spending Score is something you assign to the customer based on your defined parameters like customer behavior and purchasing data."
   ]
  },
  {
   "cell_type": "markdown",
   "metadata": {},
   "source": [
    "### 1. Import Libraries"
   ]
  },
  {
   "cell_type": "markdown",
   "metadata": {},
   "source": [
    "### 2. Data Loading"
   ]
  },
  {
   "cell_type": "markdown",
   "metadata": {},
   "source": [
    "### 3. Data Cleaning"
   ]
  },
  {
   "cell_type": "markdown",
   "metadata": {},
   "source": [
    "### 4. Exploratory Data Analysis"
   ]
  },
  {
   "cell_type": "markdown",
   "metadata": {},
   "source": [
    "### 5. Feature Engineering\n",
    "- do feature transformation (scaling, PCA)\n",
    "- compare PCA features vs original features."
   ]
  },
  {
   "cell_type": "markdown",
   "metadata": {},
   "source": [
    "### 6. Modeling\n",
    "**Clustering algorithm options**:  \n",
    "\n",
    "  a. K-Means: simple and easy to interpret with assumption of spherical clusters. It works best with numeric dataset, but gender can be transformed with one-hot encoding. \n",
    "    \n",
    "  b. DBScan: suitable when you expect clusters vary in sizes and shapes.  \n",
    "   \n",
    "  c. Gaussian Mixture Model: appropriate when features have different distributions. It's a probabilistic modeling approach."
   ]
  },
  {
   "cell_type": "markdown",
   "metadata": {},
   "source": [
    "### 7. Model Evaluation\n",
    "\n",
    "**Evaluation metrics options**:  \n",
    "\n",
    " a. Silhouette Score: measures similarity of a point to its cluster compared to other clusters.  \n",
    " - The score range is from -1 to +1. Score near to +1 indicates points are well-clustered.  \n",
    "\n",
    " b. Davies-Bouldin Index: measures ratio of average intra-cluster distance to average inter-cluster distance. The smaller, the better the clustering since the separation is more apparent.  \n",
    "  - <u>intra-cluster distance</u> shows how compact your cluster is (high internal similarity).  \n",
    "  - <u>inter cluster distance</u> describes how different a cluster compared to another one (high external differentiation)."
   ]
  },
  {
   "cell_type": "markdown",
   "metadata": {},
   "source": [
    "### 7. Conclusion"
   ]
  },
  {
   "cell_type": "markdown",
   "metadata": {},
   "source": []
  },
  {
   "cell_type": "code",
   "execution_count": null,
   "metadata": {
    "vscode": {
     "languageId": "plaintext"
    }
   },
   "outputs": [],
   "source": []
  },
  {
   "cell_type": "markdown",
   "metadata": {},
   "source": []
  },
  {
   "cell_type": "code",
   "execution_count": null,
   "metadata": {
    "vscode": {
     "languageId": "plaintext"
    }
   },
   "outputs": [],
   "source": []
  }
 ],
 "metadata": {
  "language_info": {
   "name": "python"
  }
 },
 "nbformat": 4,
 "nbformat_minor": 2
}
